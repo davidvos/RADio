{
 "cells": [
  {
   "cell_type": "code",
   "execution_count": 1,
   "id": "83b320cf",
   "metadata": {},
   "outputs": [],
   "source": [
    "import sys\n",
    "import os\n",
    "import importlib\n",
    "\n",
    "import pandas as pd\n",
    "import seaborn as sns\n",
    "\n",
    "import dart.Util\n",
    "import dart.metrics.start_calculations"
   ]
  },
  {
   "cell_type": "code",
   "execution_count": null,
   "id": "79f466fc",
   "metadata": {},
   "outputs": [],
   "source": [
    "config = {\n",
    "    'test_size': 1000, \n",
    "    'metrics':  ['calibration', 'fragmentation', 'activation', 'representation', 'alternative_voices'],\n",
    "    'cutoff': [1, 2, 5, 10, 20, 0],\n",
    "    'algorithms': ['lstur', 'pop', 'random'],\n",
    "    'output_folder': 'output/',\n",
    "    'language': 'english'\n",
    "}\n",
    "\n",
    "articles, recommendations, behavior_file = dart.Util.read_files()"
   ]
  },
  {
   "cell_type": "code",
   "execution_count": null,
   "id": "c6debb87",
   "metadata": {},
   "outputs": [],
   "source": [
    "calculator = dart.metrics.start_calculations.MetricsCalculator(config, articles, recommendations, behavior_file)"
   ]
  },
  {
   "cell_type": "code",
   "execution_count": null,
   "id": "3474bd9f",
   "metadata": {},
   "outputs": [],
   "source": [
    "df = calculator.execute()"
   ]
  },
  {
   "cell_type": "code",
   "execution_count": null,
   "id": "ff75db91",
   "metadata": {},
   "outputs": [],
   "source": [
    "articles"
   ]
  },
  {
   "cell_type": "code",
   "execution_count": null,
   "id": "028b9377",
   "metadata": {},
   "outputs": [],
   "source": [
    "recommendations.loc['59012']"
   ]
  },
  {
   "cell_type": "code",
   "execution_count": null,
   "id": "67a20a4c",
   "metadata": {},
   "outputs": [],
   "source": []
  }
 ],
 "metadata": {
  "kernelspec": {
   "display_name": "Python 3 (ipykernel)",
   "language": "python",
   "name": "python3"
  },
  "language_info": {
   "codemirror_mode": {
    "name": "ipython",
    "version": 3
   },
   "file_extension": ".py",
   "mimetype": "text/x-python",
   "name": "python",
   "nbconvert_exporter": "python",
   "pygments_lexer": "ipython3",
   "version": "3.10.2"
  }
 },
 "nbformat": 4,
 "nbformat_minor": 5
}
